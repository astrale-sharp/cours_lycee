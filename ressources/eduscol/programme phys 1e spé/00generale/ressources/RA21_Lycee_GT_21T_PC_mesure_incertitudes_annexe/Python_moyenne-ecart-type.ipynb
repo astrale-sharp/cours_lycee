{
  "nbformat": 4,
  "nbformat_minor": 0,
  "metadata": {
    "kernelspec": {
      "display_name": "Python 3",
      "language": "python",
      "name": "python3"
    },
    "language_info": {
      "codemirror_mode": {
        "name": "ipython",
        "version": 3
      },
      "file_extension": ".py",
      "mimetype": "text/x-python",
      "name": "python",
      "nbconvert_exporter": "python",
      "pygments_lexer": "ipython3",
      "version": "3.7.3"
    },
    "nteract": {
      "version": "0.24.1"
    },
    "colab": {
      "name": "Chute libre.ipynb",
      "provenance": [],
      "toc_visible": true
    }
  },
  "cells": [
    {
      "cell_type": "markdown",
      "metadata": {
        "id": "VQ3u5o1cfE8D"
      },
      "source": [
        "# Création d'histogrammes\n",
        "## Histogrammes génériques"
      ]
    },
    {
      "cell_type": "code",
      "metadata": {
        "colab": {
          "base_uri": "https://localhost:8080/",
          "height": 838
        },
        "id": "X9MxHucxfE8D",
        "outputId": "6988ee79-25f2-477c-9e7d-e3e9ae50a3eb"
      },
      "source": [
        "import numpy as np\n",
        "import numpy.random as rd\n",
        "import matplotlib.pyplot as plt\n",
        "\n",
        "data = [381.75, 381.84, 381.87, 381.88, 381.9, 381.97, 381.97, 382., 382.03, 382.05\n",
        ", 382.05, 382.09, 382.09, 382.09, 382.1, 382.11, 382.12, 382.13, 382.14, 382.17\n",
        ", 382.19, 382.2, 382.2, 382.2, 382.22, 382.22, 382.23, 382.25, 382.25, 382.26\n",
        ", 382.29, 382.31, 382.31, 382.32, 382.34, 382.34, 382.36, 382.37, 382.38, 382.39\n",
        ", 382.39, 382.39, 382.39, 382.41, 382.41, 382.41, 382.42, 382.43, 382.44, 382.45\n",
        ", 382.45, 382.46, 382.46, 382.46, 382.47, 382.51, 382.52, 382.52, 382.53, 382.53\n",
        ", 382.53, 382.54, 382.55, 382.59, 382.59, 382.62, 382.63, 382.63, 382.64, 382.65\n",
        ", 382.66, 382.67, 382.68, 382.7, 382.7, 382.72, 382.72, 382.74, 382.74, 382.77\n",
        ", 382.77, 382.8, 382.81, 382.81, 382.82, 382.84, 382.87, 382.89, 382.9, 382.92\n",
        ", 382.98, 383.,  383.02, 383.03, 383.06, 383.07, 383.08, 383.13, 383.17, 383.2\n",
        ", 383.3, 383.36, 383.41, 383.5, 383.69, 383.75]\n",
        "\n",
        "# sinon il est possible d'importer un fichier texte avec data = np.loadtxt('...')\n",
        "\n",
        "plt.hist(data, bins='rice')\n",
        "plt.xlabel('période (s)')\n",
        "plt.ylabel('effectifs')\n",
        "plt.show()\n",
        "\n",
        "plt.hist(data, bins=2)\n",
        "plt.xlabel('temps de chute (ms)')\n",
        "plt.ylabel('effectifs')\n",
        "plt.show()\n",
        "plt.hist(data, bins=100)\n",
        "plt.xlabel('temps de chute (ms)')\n",
        "plt.ylabel('effectifs')\n",
        "plt.show()\n",
        "\n",
        "print('moyenne arithmétique = ', np.average(data))\n",
        "print('écart-type = ',  np.std(data, ddof=1))"
      ],
      "execution_count": 8,
      "outputs": [
        {
          "output_type": "display_data",
          "data": {
            "image/png": "[encoded data removed]",
            "text/plain": [
              "<Figure size 432x288 with 1 Axes>"
            ]
          },
          "metadata": {
            "tags": [],
            "needs_background": "light"
          }
        },
        {
          "output_type": "display_data",
          "data": {
            "image/png": "[encoded data removed]",
            "text/plain": [
              "<Figure size 432x288 with 1 Axes>"
            ]
          },
          "metadata": {
            "tags": [],
            "needs_background": "light"
          }
        },
        {
          "output_type": "display_data",
          "data": {
            "image/png": "[encoded data removed]",
            "text/plain": [
              "<Figure size 432x288 with 1 Axes>"
            ]
          },
          "metadata": {
            "tags": [],
            "needs_background": "light"
          }
        },
        {
          "output_type": "stream",
          "text": [
            "moyenne arithmétique =  382.5309433962264\n",
            "écart-type =  0.4051161580675397\n"
          ],
          "name": "stdout"
        }
      ]
    },
    {
      "cell_type": "markdown",
      "metadata": {
        "id": "w52vV0_dfE8D"
      },
      "source": [
        "## Histogramme rectangulaire"
      ]
    },
    {
      "cell_type": "code",
      "metadata": {
        "colab": {
          "base_uri": "https://localhost:8080/",
          "height": 313
        },
        "id": "mJN8mhLjfE8D",
        "outputId": "718a4691-8ec5-4472-8afe-e74bc9264c51"
      },
      "source": [
        "import numpy as np\n",
        "import numpy.random as rd\n",
        "import matplotlib.pyplot as plt\n",
        "a=1\n",
        "m=3\n",
        "Nsim = 1000\n",
        "data = rd.uniform(m-a, m+a, Nsim)\n",
        "plt.hist(data, bins='rice', range=[m-1.5*a, m+1.5*a])\n",
        "plt.xlabel('valeurs')\n",
        "plt.ylabel('effectifs')\n",
        "plt.show()\n",
        "print(\"a/sqrt{3} = \", a/np.sqrt(3) )\n",
        "print('sx = ', np.std(data, ddof=1))"
      ],
      "execution_count": 13,
      "outputs": [
        {
          "output_type": "display_data",
          "data": {
            "image/png": "[encoded data removed]",
            "text/plain": [
              "<Figure size 432x288 with 1 Axes>"
            ]
          },
          "metadata": {
            "tags": [],
            "needs_background": "light"
          }
        },
        {
          "output_type": "stream",
          "text": [
            "a/sqrt{3} =  0.5773502691896258\n",
            "sx =  0.5801398137793438\n"
          ],
          "name": "stdout"
        }
      ]
    },
    {
      "cell_type": "markdown",
      "metadata": {
        "id": "sZHv11BHfE78"
      },
      "source": [
        "# Simulation de la formule de l'écart-type d'une moyenne"
      ]
    },
    {
      "cell_type": "markdown",
      "metadata": {
        "id": "1Rctj1aJfE8B"
      },
      "source": [
        "## Cas N=16"
      ]
    },
    {
      "cell_type": "code",
      "metadata": {
        "colab": {
          "base_uri": "https://localhost:8080/"
        },
        "id": "cJ9VYWHTfE8C",
        "outputId": "59a34b73-7742-475c-a0f8-656f2420dbb9"
      },
      "source": [
        "# import des librairies utiles\n",
        "import numpy as np\n",
        "import numpy.random as rd\n",
        "import matplotlib.pyplot as plt\n",
        "\n",
        "# calcul de l’écart-type sur un échantillon à 16 observations\n",
        "sx = np.std(rd.uniform(10, 11, 16), ddof=1)\n",
        "\n",
        "# initialisation\n",
        "moy = np.zeros(10000)\n",
        "\n",
        "# boucle : calcul à chaque itération de la moyenne de 16 observations\n",
        "for i in range(10000):\n",
        "    moy[i] = np.average(rd.uniform(10, 11, 16))\n",
        "\n",
        "# calcul de l’écart-type des moyennes\n",
        "ux = np.std(moy, ddof=1)\n",
        "\n",
        "# comparaison entre l’écart-type des moyennes et l’écart-type d’un échantillon à 16 observations divisé par racine de 16\n",
        "print('ux = ', ux)\n",
        "print('sx/4 = ', sx/4)\n",
        "\n",
        "\n"
      ],
      "execution_count": 14,
      "outputs": [
        {
          "output_type": "stream",
          "text": [
            "ux =  0.07248104833786147\n",
            "sx/4 =  0.0722370351816118\n"
          ],
          "name": "stdout"
        }
      ]
    },
    {
      "cell_type": "markdown",
      "metadata": {
        "id": "m6YFy341fE8C"
      },
      "source": [
        "## Cas N quelconque"
      ]
    },
    {
      "cell_type": "code",
      "metadata": {
        "colab": {
          "base_uri": "https://localhost:8080/",
          "height": 279
        },
        "id": "T9zcgmAKfE8C",
        "outputId": "3b9f65a3-56dc-481e-92d1-02fd7abd4a13"
      },
      "source": [
        "# import des librairies utiles\n",
        "import numpy as np\n",
        "import numpy.random as rd\n",
        "import matplotlib.pyplot as plt\n",
        "\n",
        "# initialisation\n",
        "Nmax = 100\n",
        "simul = 1000\n",
        "sx_rac = np.zeros(Nmax-1)\n",
        "ux = np.zeros(Nmax-1)\n",
        "moy = np.zeros(simul)\n",
        "\n",
        "# boucle pour différentes valeurs de N\n",
        "for N in range(2, Nmax+1, 1):\n",
        "    # calcul de l’écart-type sur un échantillon à N observations\n",
        "    sx_rac[N-2] = np.std(rd.uniform(10, 11, N), ddof=1) / np.sqrt(N)\n",
        "    # boucle : calcul à chaque itération de la moyenne de N observations\n",
        "    for i in range(simul):\n",
        "        moy[i] = np.average(rd.uniform(10, 11, N))\n",
        "    # calcul de l’écart-type des moyennes\n",
        "    ux[N-2] = np.std(moy, ddof=1)\n",
        "\n",
        "# comparaison entre l’écart-type des moyennes et l’écart-type d’un échantillon à 16 observations divisé par racine de N\n",
        "# le tout en fonction de N\n",
        "plt.plot(np.arange(2, Nmax+1, 1), ux, 'ro', alpha=0.66, label = 'écart-type des moyennes')\n",
        "plt.plot(np.arange(2, Nmax+1, 1), sx_rac, 'bo', alpha=0.33, label = 'écart-type/racine(N)')\n",
        "plt.legend()\n",
        "plt.xlabel('N')\n",
        "plt.ylabel('écarts-types')\n",
        "plt.show()\n"
      ],
      "execution_count": 15,
      "outputs": [
        {
          "output_type": "display_data",
          "data": {
            "image/png": "[encoded data removed]",
            "text/plain": [
              "<Figure size 432x288 with 1 Axes>"
            ]
          },
          "metadata": {
            "tags": [],
            "needs_background": "light"
          }
        }
      ]
    },
    {
      "cell_type": "markdown",
      "metadata": {
        "id": "ObnJ5w7MfE8E"
      },
      "source": [
        "# Aire d'une carte de crédit"
      ]
    },
    {
      "cell_type": "code",
      "metadata": {
        "colab": {
          "base_uri": "https://localhost:8080/",
          "height": 318
        },
        "id": "_GjH778pfE8E",
        "outputId": "40b0877a-c4b9-419c-cdb3-73228240fb69"
      },
      "source": [
        "import numpy as np\n",
        "import numpy.random as rd\n",
        "import matplotlib.pyplot as plt\n",
        "\n",
        "Nsim = 1000\n",
        "L = rd.uniform(85, 86, Nsim)\n",
        "l = rd.uniform(53.5, 54.5, Nsim)\n",
        "\n",
        "A = l*L\n",
        "plt.hist(A, bins='rice')\n",
        "plt.xlabel(r'aires (mm$^2$)')\n",
        "plt.ylabel('effectifs')\n",
        "plt.show()\n",
        "\n",
        "print('valeur mesurée de A : ', np.average(A))\n",
        "print('u(A) : ', np.std(A, ddof=1))\n"
      ],
      "execution_count": 17,
      "outputs": [
        {
          "output_type": "display_data",
          "data": {
            "image/png": "[encoded data removed]",
            "text/plain": [
              "<Figure size 432x288 with 1 Axes>"
            ]
          },
          "metadata": {
            "tags": [],
            "needs_background": "light"
          }
        },
        {
          "output_type": "stream",
          "text": [
            "valeur mesurée de A :  4615.9921014097445\n",
            "u(A) :  28.79785878095584\n"
          ],
          "name": "stdout"
        }
      ]
    },
    {
      "cell_type": "code",
      "metadata": {
        "id": "lPXq4fLQfE8E"
      },
      "source": [
        ""
      ],
      "execution_count": 17,
      "outputs": []
    }
  ]
}